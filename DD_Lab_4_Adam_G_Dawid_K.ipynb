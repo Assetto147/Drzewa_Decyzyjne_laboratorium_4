{
 "cells": [
  {
   "cell_type": "markdown",
   "metadata": {
    "id": "q90LlPhnw8VO"
   },
   "source": [
    "# Laboratorium 4\n",
    "## ADAM GAWRYŚ, DAWID KLEINA"
   ]
  },
  {
   "cell_type": "markdown",
   "metadata": {},
   "source": [
    "## Zadanie 1. (1 pkt.)\n",
    "Zbiór danych: https://archive.ics.uci.edu/ml/datasets/SmartphoneBased+Recognition+of+Human+Activities+and+Postural+Transitions\n",
    "\n",
    "• Treningowy: X_train.txt / y_train.txt\n",
    "\n",
    "• Testowy: X_test.txt / y_test.txt"
   ]
  },
  {
   "cell_type": "code",
   "execution_count": 2,
   "metadata": {
    "id": "DyH5jZF_w8VY"
   },
   "outputs": [],
   "source": [
    "import numpy as np\n",
    "import pandas as pd \n",
    "from sklearn import svm\n",
    "from sklearn import metrics\n",
    "from sklearn.metrics import confusion_matrix\n",
    "import collections\n",
    "from sklearn.metrics import multilabel_confusion_matrix\n",
    "from sklearn.metrics import roc_auc_score\n",
    "from sklearn.metrics import classification_report\n",
    "from sklearn.preprocessing import OneHotEncoder"
   ]
  },
  {
   "cell_type": "code",
   "execution_count": 3,
   "metadata": {
    "id": "U-nayZhuw8Va"
   },
   "outputs": [],
   "source": [
    "data_train = pd.read_csv(\"X_train.txt\", sep=\" \", header = None)\n",
    "result_train = pd.read_csv(\"y_train.txt\", sep=\" \", header = None)\n",
    "data_test = pd.read_csv(\"X_test.txt\", sep=\" \", header = None)\n",
    "result_test = pd.read_csv(\"y_test.txt\", sep=\" \", header = None)"
   ]
  },
  {
   "cell_type": "code",
   "execution_count": 4,
   "metadata": {
    "colab": {
     "base_uri": "https://localhost:8080/",
     "height": 402
    },
    "id": "VpxPC28Ww8Vb",
    "outputId": "c12c6845-53e1-4de1-eedb-8f39a4c0aee4"
   },
   "outputs": [
    {
     "data": {
      "text/html": [
       "<div>\n",
       "<style scoped>\n",
       "    .dataframe tbody tr th:only-of-type {\n",
       "        vertical-align: middle;\n",
       "    }\n",
       "\n",
       "    .dataframe tbody tr th {\n",
       "        vertical-align: top;\n",
       "    }\n",
       "\n",
       "    .dataframe thead th {\n",
       "        text-align: right;\n",
       "    }\n",
       "</style>\n",
       "<table border=\"1\" class=\"dataframe\">\n",
       "  <thead>\n",
       "    <tr style=\"text-align: right;\">\n",
       "      <th></th>\n",
       "      <th>0</th>\n",
       "    </tr>\n",
       "  </thead>\n",
       "  <tbody>\n",
       "    <tr>\n",
       "      <th>0</th>\n",
       "      <td>5</td>\n",
       "    </tr>\n",
       "    <tr>\n",
       "      <th>1</th>\n",
       "      <td>5</td>\n",
       "    </tr>\n",
       "    <tr>\n",
       "      <th>2</th>\n",
       "      <td>5</td>\n",
       "    </tr>\n",
       "    <tr>\n",
       "      <th>3</th>\n",
       "      <td>5</td>\n",
       "    </tr>\n",
       "    <tr>\n",
       "      <th>4</th>\n",
       "      <td>5</td>\n",
       "    </tr>\n",
       "    <tr>\n",
       "      <th>...</th>\n",
       "      <td>...</td>\n",
       "    </tr>\n",
       "    <tr>\n",
       "      <th>3157</th>\n",
       "      <td>2</td>\n",
       "    </tr>\n",
       "    <tr>\n",
       "      <th>3158</th>\n",
       "      <td>2</td>\n",
       "    </tr>\n",
       "    <tr>\n",
       "      <th>3159</th>\n",
       "      <td>2</td>\n",
       "    </tr>\n",
       "    <tr>\n",
       "      <th>3160</th>\n",
       "      <td>2</td>\n",
       "    </tr>\n",
       "    <tr>\n",
       "      <th>3161</th>\n",
       "      <td>2</td>\n",
       "    </tr>\n",
       "  </tbody>\n",
       "</table>\n",
       "<p>3162 rows × 1 columns</p>\n",
       "</div>"
      ],
      "text/plain": [
       "      0\n",
       "0     5\n",
       "1     5\n",
       "2     5\n",
       "3     5\n",
       "4     5\n",
       "...  ..\n",
       "3157  2\n",
       "3158  2\n",
       "3159  2\n",
       "3160  2\n",
       "3161  2\n",
       "\n",
       "[3162 rows x 1 columns]"
      ]
     },
     "execution_count": 4,
     "metadata": {},
     "output_type": "execute_result"
    }
   ],
   "source": [
    "data_train = pd.DataFrame(data=data_train)\n",
    "result_train = pd.DataFrame(data=result_train)\n",
    "data_test = pd.DataFrame(data=data_test)\n",
    "result_test = pd.DataFrame(data=result_test)\n",
    "\n",
    "data_train.reset_index(drop=True)\n",
    "result_train.reset_index(drop=True)\n",
    "data_test.reset_index(drop=True)\n",
    "result_test.reset_index(drop=True)"
   ]
  },
  {
   "cell_type": "code",
   "execution_count": 5,
   "metadata": {
    "id": "lc-im_vTw8Vd"
   },
   "outputs": [],
   "source": [
    "X_train = data_train\n",
    "y_train = result_train\n",
    "X_test = data_test\n",
    "y_test = result_test"
   ]
  },
  {
   "cell_type": "code",
   "execution_count": 6,
   "metadata": {
    "colab": {
     "base_uri": "https://localhost:8080/"
    },
    "id": "JkSJDmCCw8Ve",
    "outputId": "abca1188-a407-47a0-c56f-33eb36c2ad5f"
   },
   "outputs": [
    {
     "data": {
      "text/plain": [
       "(7767,)"
      ]
     },
     "execution_count": 6,
     "metadata": {},
     "output_type": "execute_result"
    }
   ],
   "source": [
    "y_train = np.resize(y_train, (7767,))\n",
    "y_train.shape"
   ]
  },
  {
   "cell_type": "code",
   "execution_count": 7,
   "metadata": {
    "colab": {
     "base_uri": "https://localhost:8080/"
    },
    "id": "xlpjBMHjw8Vf",
    "outputId": "f6f191cb-51b5-4ee5-bd7c-1b8963ca340a"
   },
   "outputs": [
    {
     "data": {
      "text/plain": [
       "(3162,)"
      ]
     },
     "execution_count": 7,
     "metadata": {},
     "output_type": "execute_result"
    }
   ],
   "source": [
    "y_test = np.resize(y_test, (3162,))\n",
    "y_test.shape"
   ]
  },
  {
   "cell_type": "markdown",
   "metadata": {},
   "source": [
    "## Zadanie 2. (2 pkt.)\n",
    "Zbuduj modele predykcyjne na podstawie następujących algorytmów zakładając domyślne\n",
    "parametry:\n",
    "\n",
    "• SVM\n",
    "\n",
    "• kNN\n",
    "\n",
    "• Decision Tree\n",
    "\n",
    "• Random Forest"
   ]
  },
  {
   "cell_type": "code",
   "execution_count": null,
   "metadata": {},
   "outputs": [],
   "source": [
    "from sklearn.neighbors import KNeighborsClassifier\n",
    "from sklearn.svm import LinearSV\n",
    "from sklearn.tree import DecisionTreeClassifier\n",
    "from sklearn.ensemble import RandomForestClassifier"
   ]
  },
  {
   "cell_type": "markdown",
   "metadata": {
    "id": "bb4_DIukw8Vg"
   },
   "source": [
    "### Algorytm SVM "
   ]
  },
  {
   "cell_type": "code",
   "execution_count": 46,
   "metadata": {
    "id": "0MscYkddw8Vh"
   },
   "outputs": [],
   "source": [
    "svm_1 = svm.SVC(decision_function_shape='ovr')\n",
    "svm_1.fit(X_train, np.ravel(y_train,order='C'))\n",
    "y_pred = svm_1.predict(X_test)"
   ]
  },
  {
   "cell_type": "markdown",
   "metadata": {
    "id": "XntXils6w8Vn"
   },
   "source": [
    "### KNN"
   ]
  },
  {
   "cell_type": "code",
   "execution_count": 69,
   "metadata": {
    "id": "Jb3xEOMzw8Vo"
   },
   "outputs": [],
   "source": [
    "knn_1 = KNeighborsClassifier(n_neighbors=5)\n",
    "knn_1.fit(X_train, y_train)\n",
    "y_pred_knn_1 = knn_1.predict(X_test)"
   ]
  },
  {
   "cell_type": "markdown",
   "metadata": {
    "id": "1mVI0SKow8Vp"
   },
   "source": [
    "### DECISION TREE"
   ]
  },
  {
   "cell_type": "code",
   "execution_count": 65,
   "metadata": {
    "id": "F7xj50sPw8Vr"
   },
   "outputs": [],
   "source": [
    "rf_1 = RandomForestClassifier(n_estimators=20, random_state=0)\n",
    "rf_1.fit(X_train, y_train)\n",
    "y_pred_rf_1 = rf_1.predict(X_test)"
   ]
  },
  {
   "cell_type": "markdown",
   "metadata": {},
   "source": [
    "### RANDOM FOREST"
   ]
  },
  {
   "cell_type": "code",
   "execution_count": 30,
   "metadata": {
    "id": "BEGf9rBxw8Vp"
   },
   "outputs": [],
   "source": [
    "dt_1 = DecisionTreeClassifier()\n",
    "dt_1 = dt_1.fit(X_train,y_train)\n",
    "y_pred_dt_1 = dt_1.predict(X_test)"
   ]
  },
  {
   "cell_type": "markdown",
   "metadata": {},
   "source": [
    "## Zadanie 3. (1 pkt.)\n",
    "Na podstawie zdefiniowanych metryk oceny klasyfikatorów oceń skuteczność klasyfikacji algorytmów z zadania 2:\n",
    "\n",
    "• Confusion matrix: TP / TN / FP / FN\n",
    "\n",
    "• ACC\n",
    "\n",
    "• Recall\n",
    "\n",
    "• F1\n",
    "\n",
    "• AUC\n"
   ]
  },
  {
   "cell_type": "markdown",
   "metadata": {},
   "source": [
    "### SVM:"
   ]
  },
  {
   "cell_type": "code",
   "execution_count": 47,
   "metadata": {
    "colab": {
     "base_uri": "https://localhost:8080/",
     "height": 370
    },
    "id": "ZJjQhPfXw8Vl",
    "outputId": "592d32a9-73ca-441a-aed6-c6f077dda250"
   },
   "outputs": [
    {
     "name": "stdout",
     "output_type": "stream",
     "text": [
      "[[489   4   3   0   0   0   0   0   0   0   0   0]\n",
      " [ 22 449   0   0   0   0   0   0   0   0   0   0]\n",
      " [ 10  26 384   0   0   0   0   0   0   0   0   0]\n",
      " [  0   3   0 454  51   0   0   0   0   0   0   0]\n",
      " [  0   0   0  29 527   0   0   0   0   0   0   0]\n",
      " [  0   0   0   0   0 545   0   0   0   0   0   0]\n",
      " [  0   2   0   2   0   0  18   0   1   0   0   0]\n",
      " [  0   0   0   0   0   0   2   8   0   0   0   0]\n",
      " [  0   0   0   0   0   0   0   0  28   0   4   0]\n",
      " [  0   0   0   0   0   0   0   0   1  18   0   6]\n",
      " [  1   2   0   2   0   2   1   0  14   0  27   0]\n",
      " [  1   0   0   0   0   0   0   0   0   9   2  15]]\n",
      "              precision    recall  f1-score   support\n",
      "\n",
      "           1       0.93      0.99      0.96       496\n",
      "           2       0.92      0.95      0.94       471\n",
      "           3       0.99      0.91      0.95       420\n",
      "           4       0.93      0.89      0.91       508\n",
      "           5       0.91      0.95      0.93       556\n",
      "           6       1.00      1.00      1.00       545\n",
      "           7       0.86      0.78      0.82        23\n",
      "           8       1.00      0.80      0.89        10\n",
      "           9       0.64      0.88      0.74        32\n",
      "          10       0.67      0.72      0.69        25\n",
      "          11       0.82      0.55      0.66        49\n",
      "          12       0.71      0.56      0.63        27\n",
      "\n",
      "    accuracy                           0.94      3162\n",
      "   macro avg       0.87      0.83      0.84      3162\n",
      "weighted avg       0.94      0.94      0.94      3162\n",
      "\n"
     ]
    }
   ],
   "source": [
    "print(confusion_matrix(y_test, y_pred))\n",
    "print(classification_report(y_test, y_pred))"
   ]
  },
  {
   "cell_type": "code",
   "execution_count": 51,
   "metadata": {
    "colab": {
     "base_uri": "https://localhost:8080/"
    },
    "id": "NpleCx3Ww8Vi",
    "outputId": "a57cfc09-31a3-4f15-a052-3eee98ad1f0d"
   },
   "outputs": [
    {
     "name": "stdout",
     "output_type": "stream",
     "text": [
      "0.9127519884019203\n"
     ]
    }
   ],
   "source": [
    "y_pred = OneHotEncoder().fit_transform(y_pred.reshape(-1, 1)).toarray()\n",
    "roc_auc = roc_auc_score(y_test, y_pred, multi_class='ovr')\n",
    "print(roc_auc)"
   ]
  },
  {
   "cell_type": "markdown",
   "metadata": {
    "id": "ypUhDhO5w8Vo"
   },
   "source": [
    "### KNN"
   ]
  },
  {
   "cell_type": "code",
   "execution_count": 70,
   "metadata": {
    "colab": {
     "base_uri": "https://localhost:8080/"
    },
    "id": "LU-ZmuGLw8Vo",
    "outputId": "0e581103-d7ab-41fd-8304-539f6c33629e"
   },
   "outputs": [
    {
     "name": "stdout",
     "output_type": "stream",
     "text": [
      "[[486   2   8   0   0   0   0   0   0   0   0   0]\n",
      " [ 39 423   9   0   0   0   0   0   0   0   0   0]\n",
      " [ 43  50 327   0   0   0   0   0   0   0   0   0]\n",
      " [  0   4   0 398 106   0   0   0   0   0   0   0]\n",
      " [  0   2   0  42 512   0   0   0   0   0   0   0]\n",
      " [  0   1   0   2   1 541   0   0   0   0   0   0]\n",
      " [  1   3   0   1   0   0  17   0   1   0   0   0]\n",
      " [  0   0   0   0   0   0   0  10   0   0   0   0]\n",
      " [  0   0   0   0   0   0   0   0  28   0   4   0]\n",
      " [  0   0   0   0   0   0   0   0   1  22   0   2]\n",
      " [  2   4   1   0   1   1   2   0  15   0  23   0]\n",
      " [  1   0   0   0   0   0   0   0   1  12   2  11]]\n",
      "              precision    recall  f1-score   support\n",
      "\n",
      "           1       0.85      0.98      0.91       496\n",
      "           2       0.87      0.90      0.88       471\n",
      "           3       0.95      0.78      0.85       420\n",
      "           4       0.90      0.78      0.84       508\n",
      "           5       0.83      0.92      0.87       556\n",
      "           6       1.00      0.99      1.00       545\n",
      "           7       0.89      0.74      0.81        23\n",
      "           8       1.00      1.00      1.00        10\n",
      "           9       0.61      0.88      0.72        32\n",
      "          10       0.65      0.88      0.75        25\n",
      "          11       0.79      0.47      0.59        49\n",
      "          12       0.85      0.41      0.55        27\n",
      "\n",
      "    accuracy                           0.88      3162\n",
      "   macro avg       0.85      0.81      0.81      3162\n",
      "weighted avg       0.89      0.88      0.88      3162\n",
      "\n"
     ]
    }
   ],
   "source": [
    "from sklearn.metrics import classification_report, confusion_matrix\n",
    "print(confusion_matrix(y_test, y_pred_knn_1))\n",
    "print(classification_report(y_test, y_pred_knn_1))"
   ]
  },
  {
   "cell_type": "code",
   "execution_count": 71,
   "metadata": {},
   "outputs": [
    {
     "name": "stdout",
     "output_type": "stream",
     "text": [
      "0.8995627260424816\n"
     ]
    }
   ],
   "source": [
    "y_pred_knn_1 = OneHotEncoder().fit_transform(y_pred_knn_1.reshape(-1, 1)).toarray()\n",
    "roc_auc = roc_auc_score(y_test, y_pred_knn_1, multi_class='ovr')\n",
    "print(roc_auc)"
   ]
  },
  {
   "cell_type": "markdown",
   "metadata": {
    "id": "1mVI0SKow8Vp"
   },
   "source": [
    "### DECISION TREE"
   ]
  },
  {
   "cell_type": "code",
   "execution_count": 23,
   "metadata": {
    "colab": {
     "base_uri": "https://localhost:8080/"
    },
    "id": "FlPVtWWgw8Vq",
    "outputId": "f9980424-9043-457f-e2a7-950a33d23efc"
   },
   "outputs": [
    {
     "name": "stdout",
     "output_type": "stream",
     "text": [
      "[[377 106  13   0   0   0   0   0   0   0   0   0]\n",
      " [ 49 361  59   0   0   0   0   0   0   0   2   0]\n",
      " [ 34  67 318   0   0   0   1   0   0   0   0   0]\n",
      " [  0   0   0 406  99   0   2   0   0   0   0   1]\n",
      " [  0   0   0  75 480   0   0   0   1   0   0   0]\n",
      " [  0   2   1   0   0 541   1   0   0   0   0   0]\n",
      " [  0   1   0   0   2   0  15   2   0   1   2   0]\n",
      " [  0   0   0   0   0   0   1   8   1   0   0   0]\n",
      " [  0   1   0   1   1   0   0   0  17   1  10   1]\n",
      " [  0   0   0   0   0   0   0   0   1  17   0   7]\n",
      " [  1   3   0   0   1   1   4   0   8   0  31   0]\n",
      " [  1   0   1   0   0   0   2   0   0  11   0  12]]\n",
      "              precision    recall  f1-score   support\n",
      "\n",
      "           1       0.82      0.76      0.79       496\n",
      "           2       0.67      0.77      0.71       471\n",
      "           3       0.81      0.76      0.78       420\n",
      "           4       0.84      0.80      0.82       508\n",
      "           5       0.82      0.86      0.84       556\n",
      "           6       1.00      0.99      1.00       545\n",
      "           7       0.58      0.65      0.61        23\n",
      "           8       0.80      0.80      0.80        10\n",
      "           9       0.61      0.53      0.57        32\n",
      "          10       0.57      0.68      0.62        25\n",
      "          11       0.69      0.63      0.66        49\n",
      "          12       0.57      0.44      0.50        27\n",
      "\n",
      "    accuracy                           0.82      3162\n",
      "   macro avg       0.73      0.72      0.72      3162\n",
      "weighted avg       0.82      0.82      0.82      3162\n",
      "\n"
     ]
    }
   ],
   "source": [
    "print(confusion_matrix(y_test, y_pred_dt_1))\n",
    "print(classification_report(y_test, y_pred_dt_1))"
   ]
  },
  {
   "cell_type": "code",
   "execution_count": 55,
   "metadata": {},
   "outputs": [
    {
     "name": "stdout",
     "output_type": "stream",
     "text": [
      "0.8519110064338976\n"
     ]
    }
   ],
   "source": [
    "y_pred_dt_1 = OneHotEncoder().fit_transform(y_pred_dt_1.reshape(-1, 1)).toarray()\n",
    "roc_auc = roc_auc_score(y_test, y_pred_dt_1, multi_class='ovr')\n",
    "print(roc_auc)"
   ]
  },
  {
   "cell_type": "markdown",
   "metadata": {
    "id": "8DERDIYKw8Vq"
   },
   "source": [
    "### RANDOM FOREST"
   ]
  },
  {
   "cell_type": "code",
   "execution_count": 66,
   "metadata": {
    "colab": {
     "base_uri": "https://localhost:8080/",
     "height": 320
    },
    "id": "Zw3-0FZow8Vr",
    "outputId": "fda9de84-b63e-49e9-bc81-bb710494aa21",
    "tags": []
   },
   "outputs": [
    {
     "name": "stdout",
     "output_type": "stream",
     "text": [
      "[[472  10  14   0   0   0   0   0   0   0   0   0]\n",
      " [ 55 408   8   0   0   0   0   0   0   0   0   0]\n",
      " [ 22  44 354   0   0   0   0   0   0   0   0   0]\n",
      " [  0   0   0 448  58   0   1   1   0   0   0   0]\n",
      " [  0   0   0  51 504   0   1   0   0   0   0   0]\n",
      " [  0   0   1   0   0 544   0   0   0   0   0   0]\n",
      " [  0   1   0   3   1   0  17   0   0   0   1   0]\n",
      " [  0   0   0   1   0   0   1   8   0   0   0   0]\n",
      " [  0   0   0   0   0   0   0   0  27   0   5   0]\n",
      " [  0   0   0   0   0   0   0   0   1  18   0   6]\n",
      " [  2   3   1   2   0   0   2   0  12   0  27   0]\n",
      " [  1   1   0   0   0   0   0   0   0  10   2  13]]\n",
      "              precision    recall  f1-score   support\n",
      "\n",
      "           1       0.86      0.95      0.90       496\n",
      "           2       0.87      0.87      0.87       471\n",
      "           3       0.94      0.84      0.89       420\n",
      "           4       0.89      0.88      0.88       508\n",
      "           5       0.90      0.91      0.90       556\n",
      "           6       1.00      1.00      1.00       545\n",
      "           7       0.77      0.74      0.76        23\n",
      "           8       0.89      0.80      0.84        10\n",
      "           9       0.68      0.84      0.75        32\n",
      "          10       0.64      0.72      0.68        25\n",
      "          11       0.77      0.55      0.64        49\n",
      "          12       0.68      0.48      0.57        27\n",
      "\n",
      "    accuracy                           0.90      3162\n",
      "   macro avg       0.82      0.80      0.81      3162\n",
      "weighted avg       0.90      0.90      0.90      3162\n",
      "\n"
     ]
    }
   ],
   "source": [
    "print(confusion_matrix(y_test, y_pred_rf_1))\n",
    "print(classification_report(y_test, y_pred_rf_1))"
   ]
  },
  {
   "cell_type": "code",
   "execution_count": 67,
   "metadata": {},
   "outputs": [
    {
     "name": "stdout",
     "output_type": "stream",
     "text": [
      "0.8943369541910985\n"
     ]
    }
   ],
   "source": [
    "y_pred_rf_1 = OneHotEncoder().fit_transform(y_pred_rf_1.reshape(-1, 1)).toarray()\n",
    "roc_auc = roc_auc_score(y_test, y_pred_rf_1, multi_class='ovr')\n",
    "print(roc_auc)"
   ]
  },
  {
   "cell_type": "markdown",
   "metadata": {
    "id": "kYez9N5pw8Vs"
   },
   "source": [
    "## Zadanie 3. (2 pkt.)\n",
    "\n",
    "Dokonaj wyboru najlepszego algorytmu klasyfikacji na podstawie kros-walidacji (CV) dla 5\n",
    "podprób. Jako rezultat zwróć następujące parametry:\n",
    "\n",
    "• Wartości średniej z wyników klasyfikacji\n",
    "\n",
    "• Średniego odchylenia standardowego z wyników klasyfikacji"
   ]
  },
  {
   "cell_type": "code",
   "execution_count": 79,
   "metadata": {},
   "outputs": [],
   "source": [
    "from sklearn.model_selection import cross_val_score\n",
    "from sklearn.model_selection import StratifiedKFold"
   ]
  },
  {
   "cell_type": "code",
   "execution_count": 27,
   "metadata": {
    "id": "-Cq65tcww8Vs"
   },
   "outputs": [
    {
     "name": "stdout",
     "output_type": "stream",
     "text": [
      "Accuracy: 91.90 %\n",
      "Standard Deviation: 1.96 %\n"
     ]
    }
   ],
   "source": [
    "#SWM\n",
    "\n",
    "skf = StratifiedKFold(n_splits=5)\n",
    "accuracies = cross_val_score(estimator = svm_1, X=X_train, y=y_train, cv = 5)\n",
    "print(\"Accuracy: {:.2f} %\".format(accuracies.mean()*100))\n",
    "print(\"Standard Deviation: {:.2f} %\".format(accuracies.std()*100))"
   ]
  },
  {
   "cell_type": "code",
   "execution_count": 28,
   "metadata": {
    "id": "-RS1lI28w8Vt"
   },
   "outputs": [
    {
     "name": "stdout",
     "output_type": "stream",
     "text": [
      "Accuracy: 88.53 %\n",
      "Standard Deviation: 1.22 %\n"
     ]
    }
   ],
   "source": [
    "#KNN\n",
    "\n",
    "skf = StratifiedKFold(n_splits=5)\n",
    "accuracies = cross_val_score(estimator = knn_1, X=X_train, y=y_train, cv = 5)\n",
    "print(\"Accuracy: {:.2f} %\".format(accuracies.mean()*100))\n",
    "print(\"Standard Deviation: {:.2f} %\".format(accuracies.std()*100))"
   ]
  },
  {
   "cell_type": "code",
   "execution_count": 31,
   "metadata": {
    "id": "YUyLcxv3w8Vt"
   },
   "outputs": [
    {
     "name": "stdout",
     "output_type": "stream",
     "text": [
      "Accuracy: 83.51 %\n",
      "Standard Deviation: 2.60 %\n"
     ]
    }
   ],
   "source": [
    "#DECISION TREE\n",
    "\n",
    "skf = StratifiedKFold(n_splits=5)\n",
    "accuracies = cross_val_score(estimator = dt_1, X=X_train, y=y_train, cv = 5)\n",
    "print(\"Accuracy: {:.2f} %\".format(accuracies.mean()*100))\n",
    "print(\"Standard Deviation: {:.2f} %\".format(accuracies.std()*100))"
   ]
  },
  {
   "cell_type": "code",
   "execution_count": 73,
   "metadata": {
    "id": "iF8gu5WFw8Vu"
   },
   "outputs": [
    {
     "name": "stdout",
     "output_type": "stream",
     "text": [
      "Accuracy: 89.49 %\n",
      "Standard Deviation: 1.22 %\n"
     ]
    }
   ],
   "source": [
    "#RANDOM FOREST \n",
    "\n",
    "skf = StratifiedKFold(n_splits=5)\n",
    "accuracies = cross_val_score(estimator = rf_1, X=X_train, y=y_train, cv = 5)\n",
    "print(\"Accuracy: {:.2f} %\".format(accuracies.mean()*100))\n",
    "print(\"Standard Deviation: {:.2f} %\".format(accuracies.std()*100))"
   ]
  },
  {
   "cell_type": "markdown",
   "metadata": {
    "id": "vBMJn97Kw8Vu"
   },
   "source": [
    "## Zadanie 4. (2 pkt.)\n",
    "\n",
    "Znajdź optymalne wartości parametrów klasyfikacji (możesz korzystać z dowolnych technik)\n",
    "dla wykorzystywanych klasyfikatorów tak aby skuteczność trenowania była maksymalna.\n",
    "Następnie na podstawie wyselekcjonowanego algorytmu wraz ze zdefiniowanymi\n",
    "parametrami zwróć wynik testowania algorytmu na zbiorze testowym.\n"
   ]
  },
  {
   "cell_type": "code",
   "execution_count": 37,
   "metadata": {
    "id": "b6y0SOPrw8Vv"
   },
   "outputs": [],
   "source": [
    "from sklearn.model_selection import GridSearchCV"
   ]
  },
  {
   "cell_type": "markdown",
   "metadata": {
    "id": "j-gcYWC0iipB"
   },
   "source": [
    "### SVM"
   ]
  },
  {
   "cell_type": "code",
   "execution_count": 42,
   "metadata": {
    "id": "Uaa-sa1qw8Vw"
   },
   "outputs": [
    {
     "name": "stdout",
     "output_type": "stream",
     "text": [
      "Najlepszy wynik:  0.9375632830880738\n",
      "Najlepsza konfiguracja:  {'C': 10, 'gamma': 0.01}\n"
     ]
    }
   ],
   "source": [
    "Cs = [0.001, 0.01, 0.1, 1, 10]\n",
    "gammas = [0.001, 0.01, 0.1, 1]\n",
    "\n",
    "param_grid = {\n",
    "     'C': Cs, \n",
    "     'gamma' : gammas\n",
    "}\n",
    "\n",
    "knn_search = GridSearchCV(svm.SVC(decision_function_shape='ovr'), param_grid, cv = 5)\n",
    "knn_search.fit(X_train, np.ravel(y_train,order='C'))\n",
    "knn_search.best_params_\n",
    "print('Najlepszy wynik: ', knn_search.best_score_)\n",
    "print('Najlepsza konfiguracja: ',  knn_search.best_params_)\n",
    "\n",
    "#svm_1 = svm.SVC(decision_function_shape='ovr')\n",
    "#svm_1.fit(X_train, np.ravel(y_train,order='C'))"
   ]
  },
  {
   "cell_type": "code",
   "execution_count": 43,
   "metadata": {
    "id": "XkUwxQSstgGR"
   },
   "outputs": [],
   "source": [
    "svm_2 = svm.SVC(decision_function_shape='ovr', C=10, gamma=0.01)\n",
    "svm_2.fit(X_train, np.ravel(y_train,order='C'))\n",
    "y_pred_2 = svm_2.predict(X_test)"
   ]
  },
  {
   "cell_type": "code",
   "execution_count": 44,
   "metadata": {
    "id": "YA4x8rqAmYCJ"
   },
   "outputs": [
    {
     "name": "stdout",
     "output_type": "stream",
     "text": [
      "[[489   5   2   0   0   0   0   0   0   0   0   0]\n",
      " [ 16 454   0   0   0   0   1   0   0   0   0   0]\n",
      " [  5  20 395   0   0   0   0   0   0   0   0   0]\n",
      " [  0   1   0 460  46   0   0   1   0   0   0   0]\n",
      " [  0   0   0  11 545   0   0   0   0   0   0   0]\n",
      " [  0   0   0   0   0 545   0   0   0   0   0   0]\n",
      " [  0   1   0   2   0   0  19   0   0   0   1   0]\n",
      " [  0   0   0   0   0   0   0  10   0   0   0   0]\n",
      " [  0   0   0   0   0   0   0   0  22   0  10   0]\n",
      " [  0   0   0   0   0   0   0   0   0  21   0   4]\n",
      " [  0   0   0   2   0   2   0   0  11   0  34   0]\n",
      " [  0   0   0   0   0   0   0   0   0   5   4  18]]\n",
      "              precision    recall  f1-score   support\n",
      "\n",
      "           1       0.96      0.99      0.97       496\n",
      "           2       0.94      0.96      0.95       471\n",
      "           3       0.99      0.94      0.97       420\n",
      "           4       0.97      0.91      0.94       508\n",
      "           5       0.92      0.98      0.95       556\n",
      "           6       1.00      1.00      1.00       545\n",
      "           7       0.95      0.83      0.88        23\n",
      "           8       0.91      1.00      0.95        10\n",
      "           9       0.67      0.69      0.68        32\n",
      "          10       0.81      0.84      0.82        25\n",
      "          11       0.69      0.69      0.69        49\n",
      "          12       0.82      0.67      0.73        27\n",
      "\n",
      "    accuracy                           0.95      3162\n",
      "   macro avg       0.89      0.87      0.88      3162\n",
      "weighted avg       0.95      0.95      0.95      3162\n",
      "\n"
     ]
    }
   ],
   "source": [
    "print(confusion_matrix(y_test, y_pred_2 ))\n",
    "print(classification_report(y_test, y_pred_2 ))"
   ]
  },
  {
   "cell_type": "markdown",
   "metadata": {
    "id": "biJrh5Hkr450"
   },
   "source": [
    "### KNN"
   ]
  },
  {
   "cell_type": "code",
   "execution_count": 34,
   "metadata": {
    "colab": {
     "base_uri": "https://localhost:8080/"
    },
    "id": "8FNiNgs-w8Vw",
    "outputId": "e96a96f0-a647-4f3c-88fd-587ab30fe69f"
   },
   "outputs": [
    {
     "name": "stdout",
     "output_type": "stream",
     "text": [
      "Najlepszy wynik:  0.8912091928189805\n",
      "Najlepsza konfiguracja:  {'n_neighbors': 9, 'weights': 'distance'}\n"
     ]
    }
   ],
   "source": [
    "#KNN\n",
    "k_range = list(range(1,10))\n",
    "\n",
    "knn_grid = {\n",
    "    'n_neighbors': k_range, \n",
    "    'weights': ['uniform', 'distance']\n",
    "}\n",
    "\n",
    "knn_search = GridSearchCV(KNeighborsClassifier(), knn_grid, cv = 5)\n",
    "knn_search.fit(X_train ,y_train)\n",
    "knn_search.best_params_\n",
    "print('Najlepszy wynik: ', knn_search.best_score_)\n",
    "print('Najlepsza konfiguracja: ',  knn_search.best_params_)"
   ]
  },
  {
   "cell_type": "code",
   "execution_count": 35,
   "metadata": {
    "id": "e-TIYwz9lzrj"
   },
   "outputs": [],
   "source": [
    "knn_2 = KNeighborsClassifier(n_neighbors=8, weights='distance')\n",
    "knn_2.fit(X_train, y_train)\n",
    "y_pred_knn_2 = knn_2.predict(X_test)"
   ]
  },
  {
   "cell_type": "code",
   "execution_count": 36,
   "metadata": {
    "id": "G-4gcW6wmPUl"
   },
   "outputs": [
    {
     "name": "stdout",
     "output_type": "stream",
     "text": [
      "[[485   2   9   0   0   0   0   0   0   0   0   0]\n",
      " [ 37 427   7   0   0   0   0   0   0   0   0   0]\n",
      " [ 40  42 338   0   0   0   0   0   0   0   0   0]\n",
      " [  0   4   0 407  97   0   0   0   0   0   0   0]\n",
      " [  0   1   0  37 518   0   0   0   0   0   0   0]\n",
      " [  0   1   0   2   1 541   0   0   0   0   0   0]\n",
      " [  1   4   0   1   0   0  17   0   0   0   0   0]\n",
      " [  0   0   0   0   0   0   0  10   0   0   0   0]\n",
      " [  0   0   0   0   0   0   0   0  27   0   5   0]\n",
      " [  0   0   0   0   0   0   0   0   0  21   1   3]\n",
      " [  1   4   1   0   1   0   3   0  16   0  23   0]\n",
      " [  1   0   0   0   0   0   0   0   1  11   2  12]]\n",
      "              precision    recall  f1-score   support\n",
      "\n",
      "           1       0.86      0.98      0.91       496\n",
      "           2       0.88      0.91      0.89       471\n",
      "           3       0.95      0.80      0.87       420\n",
      "           4       0.91      0.80      0.85       508\n",
      "           5       0.84      0.93      0.88       556\n",
      "           6       1.00      0.99      1.00       545\n",
      "           7       0.85      0.74      0.79        23\n",
      "           8       1.00      1.00      1.00        10\n",
      "           9       0.61      0.84      0.71        32\n",
      "          10       0.66      0.84      0.74        25\n",
      "          11       0.74      0.47      0.58        49\n",
      "          12       0.80      0.44      0.57        27\n",
      "\n",
      "    accuracy                           0.89      3162\n",
      "   macro avg       0.84      0.81      0.82      3162\n",
      "weighted avg       0.90      0.89      0.89      3162\n",
      "\n"
     ]
    }
   ],
   "source": [
    "print(confusion_matrix(y_test, y_pred_knn_2 ))\n",
    "print(classification_report(y_test, y_pred_knn_2 ))"
   ]
  },
  {
   "cell_type": "markdown",
   "metadata": {
    "id": "oLGsUZkUsgA2"
   },
   "source": [
    "### Random Forest\n"
   ]
  },
  {
   "cell_type": "code",
   "execution_count": 72,
   "metadata": {
    "id": "sMXrPaeww8Vx"
   },
   "outputs": [
    {
     "name": "stdout",
     "output_type": "stream",
     "text": [
      "Najlepszy wynik:  0.9152878018299783\n",
      "Najlepsza konfiguracja:  {'bootstrap': False, 'max_features': 'log2', 'n_estimators': 100}\n"
     ]
    }
   ],
   "source": [
    "## Random Forest\n",
    "\n",
    "para_grids = {\n",
    "            'n_estimators' : [10,50,100],\n",
    "            'max_features' : ['auto', 'log2', 'sqrt'],\n",
    "            'bootstrap'    : [True, False]\n",
    "}\n",
    "\n",
    "knn_search = GridSearchCV(RandomForestClassifier(), para_grids, cv = 5)\n",
    "knn_search.fit(X_train ,y_train)\n",
    "knn_search.best_params_\n",
    "print('Najlepszy wynik: ', knn_search.best_score_)\n",
    "print('Najlepsza konfiguracja: ',  knn_search.best_params_)"
   ]
  },
  {
   "cell_type": "code",
   "execution_count": 76,
   "metadata": {
    "id": "l2H3d-4mmVxz"
   },
   "outputs": [],
   "source": [
    "rf_2 = RandomForestClassifier(n_estimators=100,max_features='log2',bootstrap=False)\n",
    "rf_2.fit(X_train, y_train)\n",
    "y_pred_rf_2 = rf_2.predict(X_test)"
   ]
  },
  {
   "cell_type": "code",
   "execution_count": 77,
   "metadata": {
    "id": "CXogB6DYmV2D"
   },
   "outputs": [
    {
     "name": "stdout",
     "output_type": "stream",
     "text": [
      "[[471  13  12   0   0   0   0   0   0   0   0   0]\n",
      " [ 34 430   7   0   0   0   0   0   0   0   0   0]\n",
      " [ 23  46 351   0   0   0   0   0   0   0   0   0]\n",
      " [  0   0   0 448  59   0   1   0   0   0   0   0]\n",
      " [  0   0   0  15 541   0   0   0   0   0   0   0]\n",
      " [  0   1   0   0   0 544   0   0   0   0   0   0]\n",
      " [  0   1   0   3   0   0  18   1   0   0   0   0]\n",
      " [  0   0   0   0   0   0   1   9   0   0   0   0]\n",
      " [  0   0   0   0   0   0   0   0  24   0   8   0]\n",
      " [  0   0   0   0   0   0   0   0   0  17   1   7]\n",
      " [  3   0   0   1   0   0   3   0  12   1  29   0]\n",
      " [  0   1   0   0   0   0   0   0   0  10   4  12]]\n",
      "              precision    recall  f1-score   support\n",
      "\n",
      "           1       0.89      0.95      0.92       496\n",
      "           2       0.87      0.91      0.89       471\n",
      "           3       0.95      0.84      0.89       420\n",
      "           4       0.96      0.88      0.92       508\n",
      "           5       0.90      0.97      0.94       556\n",
      "           6       1.00      1.00      1.00       545\n",
      "           7       0.78      0.78      0.78        23\n",
      "           8       0.90      0.90      0.90        10\n",
      "           9       0.67      0.75      0.71        32\n",
      "          10       0.61      0.68      0.64        25\n",
      "          11       0.69      0.59      0.64        49\n",
      "          12       0.63      0.44      0.52        27\n",
      "\n",
      "    accuracy                           0.92      3162\n",
      "   macro avg       0.82      0.81      0.81      3162\n",
      "weighted avg       0.92      0.92      0.91      3162\n",
      "\n"
     ]
    }
   ],
   "source": [
    "print(confusion_matrix(y_test, y_pred_rf_2))\n",
    "print(classification_report(y_test, y_pred_rf_2))"
   ]
  },
  {
   "cell_type": "markdown",
   "metadata": {
    "id": "BWxYQnXlsucU"
   },
   "source": [
    "### Drzewo Decyzyjne"
   ]
  },
  {
   "cell_type": "code",
   "execution_count": 38,
   "metadata": {
    "id": "aU7Y1cBMw8Vx"
   },
   "outputs": [
    {
     "name": "stdout",
     "output_type": "stream",
     "text": [
      "Najlepszy wynik:  0.8572200109225221\n",
      "Najlepsza konfiguracja:  {'criterion': 'entropy', 'max_depth': 9, 'min_samples_leaf': 5, 'splitter': 'random'}\n"
     ]
    }
   ],
   "source": [
    "## Drzewo\n",
    "\n",
    "depth = np.arange(1,10)\n",
    "leaves = np.arange(1,10)\n",
    "n_estimator = range(50, 100, 10)\n",
    "tree_param = {\n",
    "    'criterion': ['entropy', 'gini'],\n",
    "    'splitter' : ['best', 'random'], \n",
    "    'max_depth': depth,\n",
    "    'min_samples_leaf': leaves,\n",
    "}\n",
    "tree_search = GridSearchCV(DecisionTreeClassifier(), tree_param, cv=5)\n",
    "tree_search.fit(X_train ,y_train)\n",
    "tree_search.best_params_\n",
    "print('Najlepszy wynik: ', tree_search.best_score_)\n",
    "print('Najlepsza konfiguracja: ',  tree_search.best_params_)"
   ]
  },
  {
   "cell_type": "code",
   "execution_count": 80,
   "metadata": {
    "id": "cv5Q7AHVmW0x"
   },
   "outputs": [],
   "source": [
    "dt_2 = DecisionTreeClassifier(criterion='entropy',splitter='random',max_depth=9,min_samples_leaf=5)\n",
    "dt_2 = dt_2.fit(X_train,y_train)\n",
    "y_pred_dt_2 = dt_2.predict(X_test)"
   ]
  },
  {
   "cell_type": "code",
   "execution_count": 81,
   "metadata": {
    "id": "rrVw9O_PmW5V"
   },
   "outputs": [
    {
     "name": "stdout",
     "output_type": "stream",
     "text": [
      "[[440  40  16   0   0   0   0   0   0   0   0   0]\n",
      " [ 74 352  42   0   0   0   1   0   0   0   2   0]\n",
      " [ 38  60 321   0   0   0   1   0   0   0   0   0]\n",
      " [  0   0   0 386 121   0   0   0   0   1   0   0]\n",
      " [  0   0   0  83 473   0   0   0   0   0   0   0]\n",
      " [  2   2   1   0   0 540   0   0   0   0   0   0]\n",
      " [  0   0   0   0   7   0   7   3   2   0   4   0]\n",
      " [  0   0   0   1   1   0   3   1   3   0   1   0]\n",
      " [  0   1   0   2   0   0   0   0  20   0   9   0]\n",
      " [  0   0   0   0   0   0   0   0   0  18   1   6]\n",
      " [  3   0   0   3   1   0   7   1  11   0  23   0]\n",
      " [  0   0   0   0   0   0   1   0   0  13   1  12]]\n",
      "              precision    recall  f1-score   support\n",
      "\n",
      "           1       0.79      0.89      0.84       496\n",
      "           2       0.77      0.75      0.76       471\n",
      "           3       0.84      0.76      0.80       420\n",
      "           4       0.81      0.76      0.79       508\n",
      "           5       0.78      0.85      0.82       556\n",
      "           6       1.00      0.99      1.00       545\n",
      "           7       0.35      0.30      0.33        23\n",
      "           8       0.20      0.10      0.13        10\n",
      "           9       0.56      0.62      0.59        32\n",
      "          10       0.56      0.72      0.63        25\n",
      "          11       0.56      0.47      0.51        49\n",
      "          12       0.67      0.44      0.53        27\n",
      "\n",
      "    accuracy                           0.82      3162\n",
      "   macro avg       0.66      0.64      0.64      3162\n",
      "weighted avg       0.82      0.82      0.82      3162\n",
      "\n"
     ]
    }
   ],
   "source": [
    "print(confusion_matrix(y_test, y_pred_dt_2))\n",
    "print(classification_report(y_test, y_pred_dt_2))"
   ]
  },
  {
   "cell_type": "markdown",
   "metadata": {
    "id": "RJ-A8szLiyCi"
   },
   "source": [
    "## Zadanie 5. (2 pkt.)\n",
    "Zaprezentuj graficznie wynik klasyfikacji i testowania wyselekcjonowanego algorytmu:\n",
    "\n",
    "• Wykres typu scatterplot\n",
    "\n",
    "• Etykieta klasy ->unikatowy kolor i kształt\n",
    "\n",
    "• Wykres powinien zawierać dla danego klasyfikatora następujące podwykresy:\n",
    "\n",
    "o Rozkład próbek treningowych / testowych z podziałem na klasy\n",
    "\n",
    "o Wynik trenowania modelu z podziałem na klasy\n",
    "\n",
    "o Wynik testowania modelu z podziałem na klasy"
   ]
  },
  {
   "cell_type": "code",
   "execution_count": null,
   "metadata": {
    "id": "VaIe7bspi1gA"
   },
   "outputs": [],
   "source": []
  },
  {
   "cell_type": "code",
   "execution_count": null,
   "metadata": {
    "id": "IU29jnXwlc4A"
   },
   "outputs": [],
   "source": []
  },
  {
   "cell_type": "code",
   "execution_count": null,
   "metadata": {
    "id": "WlVJxdIti1i2"
   },
   "outputs": [],
   "source": []
  },
  {
   "cell_type": "code",
   "execution_count": null,
   "metadata": {
    "id": "cI_ZbZdJi1lZ"
   },
   "outputs": [],
   "source": []
  }
 ],
 "metadata": {
  "colab": {
   "collapsed_sections": [
    "XntXils6w8Vn",
    "1mVI0SKow8Vp",
    "j-gcYWC0iipB",
    "biJrh5Hkr450",
    "oLGsUZkUsgA2",
    "BWxYQnXlsucU"
   ],
   "name": "Laboratorium-4-2 (1).ipynb",
   "provenance": [],
   "toc_visible": true
  },
  "kernelspec": {
   "display_name": "Python 3",
   "language": "python",
   "name": "python3"
  },
  "language_info": {
   "codemirror_mode": {
    "name": "ipython",
    "version": 3
   },
   "file_extension": ".py",
   "mimetype": "text/x-python",
   "name": "python",
   "nbconvert_exporter": "python",
   "pygments_lexer": "ipython3",
   "version": "3.8.5"
  }
 },
 "nbformat": 4,
 "nbformat_minor": 4
}
